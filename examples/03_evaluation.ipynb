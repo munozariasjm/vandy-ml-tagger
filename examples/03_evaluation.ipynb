{
 "cells": [
  {
   "cell_type": "code",
   "execution_count": 6,
   "metadata": {},
   "outputs": [],
   "source": [
    "import numpy as np\n",
    "import sys\n",
    "import torch"
   ]
  },
  {
   "cell_type": "code",
   "execution_count": 7,
   "metadata": {},
   "outputs": [
    {
     "name": "stdout",
     "output_type": "stream",
     "text": [
      "cuda:0\n"
     ]
    }
   ],
   "source": [
    "device = torch.device(\"cuda:0\" if torch.cuda.is_available() else \"cpu\")\n",
    "print(device)"
   ]
  },
  {
   "cell_type": "code",
   "execution_count": 8,
   "metadata": {},
   "outputs": [],
   "source": [
    "from vandy_taggers.modules.models.part import ParticleTransformer, PartTrainer\n",
    "from vandy_taggers.utils.data_loader import DataLoader"
   ]
  },
  {
   "cell_type": "code",
   "execution_count": 9,
   "metadata": {},
   "outputs": [],
   "source": [
    "BS = 1\n",
    "model = ParticleTransformer(num_classes = 6,\n",
    "                 num_enc = 8,\n",
    "                 num_head = 8,\n",
    "                 embed_dim = 128,\n",
    "                 cpf_dim = 16,\n",
    "                 npf_dim = 8,\n",
    "                 vtx_dim = 14,\n",
    "                 for_inference = False,)\n",
    "model.to(device);\n",
    "model.eval();"
   ]
  },
  {
   "cell_type": "code",
   "execution_count": 10,
   "metadata": {},
   "outputs": [],
   "source": [
    "model = torch.load(\"../../saved_models/best_model.pt\")"
   ]
  },
  {
   "cell_type": "code",
   "execution_count": 11,
   "metadata": {},
   "outputs": [],
   "source": [
    "OUT_CONVERTED_PATH = \"../../../Datalake/converted/*test*\"\n",
    "test_loader = DataLoader(OUT_CONVERTED_PATH, BS).get_loader()"
   ]
  },
  {
   "cell_type": "code",
   "execution_count": 12,
   "metadata": {},
   "outputs": [],
   "source": [
    "all_predictions = []\n",
    "all_targets = []\n",
    "model.eval()\n",
    "with torch.no_grad():\n",
    "    for (X, y) in test_loader:\n",
    "        predictions = model(X)\n",
    "        all_predictions.append(predictions)\n",
    "        all_targets.append(y)"
   ]
  },
  {
   "cell_type": "code",
   "execution_count": 13,
   "metadata": {},
   "outputs": [],
   "source": [
    "predicted_classes = np.concatenate([torch.argmax(p, dim=1).cpu().numpy() for p in all_predictions])\n",
    "ground_truth = np.concatenate([torch.argmax(t, dim=1).cpu().numpy() for t in all_targets])"
   ]
  },
  {
   "cell_type": "code",
   "execution_count": 14,
   "metadata": {},
   "outputs": [
    {
     "data": {
      "text/plain": [
       "0.6540803897685749"
      ]
     },
     "execution_count": 14,
     "metadata": {},
     "output_type": "execute_result"
    }
   ],
   "source": [
    "acc = np.mean(predicted_classes == ground_truth)\n",
    "acc"
   ]
  }
 ],
 "metadata": {
  "kernelspec": {
   "display_name": "envOwnPart",
   "language": "python",
   "name": "python3"
  },
  "language_info": {
   "codemirror_mode": {
    "name": "ipython",
    "version": 3
   },
   "file_extension": ".py",
   "mimetype": "text/x-python",
   "name": "python",
   "nbconvert_exporter": "python",
   "pygments_lexer": "ipython3",
   "version": "3.9.15"
  },
  "orig_nbformat": 4,
  "vscode": {
   "interpreter": {
    "hash": "cff902959e020e668c6cf4d2e626e5a7a4473ea57b777c17f05dcb4526ea9cb0"
   }
  }
 },
 "nbformat": 4,
 "nbformat_minor": 2
}
