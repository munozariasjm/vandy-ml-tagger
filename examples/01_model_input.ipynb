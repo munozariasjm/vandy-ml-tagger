{
 "cells": [
  {
   "cell_type": "code",
   "execution_count": 1,
   "metadata": {},
   "outputs": [],
   "source": [
    "import glob\n",
    "import sys"
   ]
  },
  {
   "cell_type": "code",
   "execution_count": 2,
   "metadata": {},
   "outputs": [],
   "source": [
    "from alt_taggers.modules.models.part import ParticleTransformer\n",
    "from alt_taggers.utils.data_loader import CustomDS"
   ]
  },
  {
   "cell_type": "code",
   "execution_count": 6,
   "metadata": {},
   "outputs": [],
   "source": [
    "OUT_CONVERTED_PATH = \"../../../Datalake/converted/\"\n"
   ]
  },
  {
   "cell_type": "code",
   "execution_count": 7,
   "metadata": {},
   "outputs": [],
   "source": [
    "model = ParticleTransformer(num_classes = 6,\n",
    "                 num_enc = 8,\n",
    "                 num_head = 8,\n",
    "                 embed_dim = 128,\n",
    "                 cpf_dim = 16,\n",
    "                 npf_dim = 8,\n",
    "                 vtx_dim = 12,\n",
    "                 for_inference = False,)"
   ]
  },
  {
   "cell_type": "code",
   "execution_count": 8,
   "metadata": {},
   "outputs": [
    {
     "name": "stdout",
     "output_type": "stream",
     "text": [
      "[3366]\n"
     ]
    }
   ],
   "source": [
    "dataset = CustomDS(OUT_CONVERTED_PATH)"
   ]
  },
  {
   "cell_type": "code",
   "execution_count": 10,
   "metadata": {},
   "outputs": [
    {
     "data": {
      "text/plain": [
       "({'global_branches': {'jet_pt': array([481.76996 ,  35.448475,  48.580505, ..., 180.60628 ,  24.393124,\n",
       "           23.419743], dtype=float32),\n",
       "   'jet_eta': array([-0.7964685 , -0.30225417,  0.5475848 , ...,  1.247609  ,\n",
       "          -1.5454191 ,  2.4170864 ], dtype=float32),\n",
       "   'nCpfcand': array([15.,  8.,  6., ...,  7.,  3.,  6.], dtype=float32),\n",
       "   'nNpfcand': array([ 6.,  1.,  4., ..., 10.,  5.,  1.], dtype=float32),\n",
       "   'nsv': array([1., 0., 0., ..., 4., 0., 0.], dtype=float32),\n",
       "   'npv': array([30., 30., 30., ..., 33., 33., 33.], dtype=float32),\n",
       "   'TagVarCSV_trackSumJetEtRatio': array([0.18096362, 0.6310949 , 0.3970412 , ..., 0.23885772, 0.19393903,\n",
       "          0.20463058], dtype=float32),\n",
       "   'TagVarCSV_trackSumJetDeltaR': array([0.01899946, 0.04029173, 0.01378309, ..., 0.0094239 , 0.08525111,\n",
       "          0.14019176], dtype=float32),\n",
       "   'TagVarCSV_vertexCategory': array([0., 2., 2., ..., 0., 2., 2.], dtype=float32),\n",
       "   'TagVarCSV_trackSip2dValAboveCharm': array([ 9.9609210e-04,  8.8623003e-04,  5.4046593e-04, ...,\n",
       "           2.4987785e-03, -1.0000000e+00, -1.0000000e+00], dtype=float32),\n",
       "   'TagVarCSV_trackSip2dSigAboveCharm': array([ 0.49349585,  0.30454296,  0.12513158, ...,  0.94809335,\n",
       "          -1.        , -1.        ], dtype=float32),\n",
       "   'TagVarCSV_trackSip3dValAboveCharm': array([ 0.00101476,  0.00257083, -0.00720607, ...,  0.00251192,\n",
       "          -1.        , -1.        ], dtype=float32),\n",
       "   'TagVarCSV_trackSip3dSigAboveCharm': array([ 0.5126156,  1.2951667, -2.732901 , ...,  0.9505931, -1.       ,\n",
       "          -1.       ], dtype=float32),\n",
       "   'TagVarCSV_jetNSelectedTracks': array([3., 6., 5., ..., 4., 3., 2.], dtype=float32),\n",
       "   'TagVarCSV_jetNTracksEtaRel': array([2., 0., 0., ..., 2., 0., 0.], dtype=float32)},\n",
       "  'cpf_branches': {'Cpfcan_BtagPf_trackEtaRel': None,\n",
       "   'Cpfcan_BtagPf_trackPtRel': None,\n",
       "   'Cpfcan_BtagPf_trackPPar': None,\n",
       "   'Cpfcan_BtagPf_trackDeltaR': None,\n",
       "   'Cpfcan_BtagPf_trackPParRatio': None,\n",
       "   'Cpfcan_BtagPf_trackSip2dVal': None,\n",
       "   'Cpfcan_BtagPf_trackSip2dSig': None,\n",
       "   'Cpfcan_BtagPf_trackSip3dVal': None,\n",
       "   'Cpfcan_BtagPf_trackSip3dSig': None,\n",
       "   'Cpfcan_BtagPf_trackJetDistVal': None,\n",
       "   'Cpfcan_ptrel': None,\n",
       "   'Cpfcan_drminsv': None,\n",
       "   'Cpfcan_VTX_ass': None,\n",
       "   'Cpfcan_puppiw': None,\n",
       "   'Cpfcan_chi2': None,\n",
       "   'Cpfcan_quality': None},\n",
       "  'npf_branches': {'Npfcan_ptrel': None,\n",
       "   'Npfcan_etarel': None,\n",
       "   'Npfcan_phirel': None,\n",
       "   'Npfcan_deltaR': None,\n",
       "   'Npfcan_isGamma': None,\n",
       "   'Npfcan_HadFrac': None,\n",
       "   'Npfcan_drminsv': None,\n",
       "   'Npfcan_puppiw': None},\n",
       "  'vtx_branches': {'sv_pt': None,\n",
       "   'sv_deltaR': None,\n",
       "   'sv_mass': None,\n",
       "   'sv_etarel': None,\n",
       "   'sv_phirel': None,\n",
       "   'sv_ntracks': None,\n",
       "   'sv_chi2': None,\n",
       "   'sv_normchi2': None,\n",
       "   'sv_dxy': None,\n",
       "   'sv_dxysig': None,\n",
       "   'sv_d3d': None,\n",
       "   'sv_d3dsig': None,\n",
       "   'sv_costhetasvpv': None,\n",
       "   'sv_enratio': None},\n",
       "  'cpf_pts_branches': {'Cpfcan_pt': None,\n",
       "   'Cpfcan_eta': None,\n",
       "   'Cpfcan_phi': None,\n",
       "   'Cpfcan_e': None},\n",
       "  'npf_pts_branches': {'Npfcan_pt': None,\n",
       "   'Npfcan_eta': None,\n",
       "   'Npfcan_phi': None,\n",
       "   'Npfcan_e': None},\n",
       "  'vtx_pts_branches': {'sv_pt': None,\n",
       "   'sv_eta': None,\n",
       "   'sv_phi': None,\n",
       "   'sv_e': None}},\n",
       " {'isB': array([0, 0, 0, ..., 1, 0, 0], dtype=int32),\n",
       "  'isBB': array([0, 0, 0, ..., 0, 0, 0], dtype=int32),\n",
       "  'isGBB': array([0, 0, 0, ..., 0, 0, 0], dtype=int32),\n",
       "  'isLeptonicB': array([1, 0, 0, ..., 0, 0, 0], dtype=int32),\n",
       "  'isLeptonicB_C': array([0, 0, 0, ..., 0, 0, 0], dtype=int32),\n",
       "  'isC': array([0, 0, 1, ..., 0, 0, 0], dtype=int32),\n",
       "  'isGCC': array([0, 0, 0, ..., 0, 0, 0], dtype=int32),\n",
       "  'isCC': array([0, 0, 0, ..., 0, 0, 0], dtype=int32),\n",
       "  'isUD': array([0, 0, 0, ..., 0, 0, 1], dtype=int32),\n",
       "  'isS': array([0, 0, 0, ..., 0, 0, 0], dtype=int32),\n",
       "  'isG': array([0, 1, 0, ..., 0, 1, 0], dtype=int32)})"
      ]
     },
     "execution_count": 10,
     "metadata": {},
     "output_type": "execute_result"
    }
   ],
   "source": [
    "dataset[0]"
   ]
  },
  {
   "cell_type": "code",
   "execution_count": null,
   "metadata": {},
   "outputs": [],
   "source": []
  }
 ],
 "metadata": {
  "kernelspec": {
   "display_name": "envOwnPart",
   "language": "python",
   "name": "python3"
  },
  "language_info": {
   "codemirror_mode": {
    "name": "ipython",
    "version": 3
   },
   "file_extension": ".py",
   "mimetype": "text/x-python",
   "name": "python",
   "nbconvert_exporter": "python",
   "pygments_lexer": "ipython3",
   "version": "3.9.15"
  },
  "orig_nbformat": 4,
  "vscode": {
   "interpreter": {
    "hash": "cff902959e020e668c6cf4d2e626e5a7a4473ea57b777c17f05dcb4526ea9cb0"
   }
  }
 },
 "nbformat": 4,
 "nbformat_minor": 2
}
