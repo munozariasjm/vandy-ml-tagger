{
 "cells": [
  {
   "cell_type": "code",
   "execution_count": 12,
   "metadata": {},
   "outputs": [],
   "source": [
    "import glob\n",
    "import sys\n",
    "import torch"
   ]
  },
  {
   "cell_type": "code",
   "execution_count": 13,
   "metadata": {},
   "outputs": [],
   "source": [
    "device = torch.device(\"cuda:0\" if torch.cuda.is_available() else \"cpu\")"
   ]
  },
  {
   "cell_type": "code",
   "execution_count": 14,
   "metadata": {},
   "outputs": [],
   "source": [
    "sys.path.append(\"../alt_taggers\")"
   ]
  },
  {
   "cell_type": "code",
   "execution_count": 15,
   "metadata": {},
   "outputs": [],
   "source": [
    "from alt_taggers.modules.models.part import ParticleTransformer\n",
    "from alt_taggers.utils.data_loader import DataLoader"
   ]
  },
  {
   "cell_type": "code",
   "execution_count": 16,
   "metadata": {},
   "outputs": [
    {
     "data": {
      "text/plain": [
       "['../../../Datalake/converted/train_file_0.pkl']"
      ]
     },
     "execution_count": 16,
     "metadata": {},
     "output_type": "execute_result"
    }
   ],
   "source": [
    "OUT_CONVERTED_PATH = \"../../../Datalake/converted/*train*\"\n",
    "glob.glob(OUT_CONVERTED_PATH)"
   ]
  },
  {
   "cell_type": "code",
   "execution_count": 17,
   "metadata": {},
   "outputs": [],
   "source": [
    "model = ParticleTransformer(num_classes = 6,\n",
    "                 num_enc = 8,\n",
    "                 num_head = 8,\n",
    "                 embed_dim = 128,\n",
    "                 cpf_dim = 16,\n",
    "                 npf_dim = 8,\n",
    "                 vtx_dim = 14,\n",
    "                 for_inference = False,)\n",
    "model.to(device);"
   ]
  },
  {
   "cell_type": "code",
   "execution_count": 18,
   "metadata": {},
   "outputs": [],
   "source": [
    "BS = 16"
   ]
  },
  {
   "cell_type": "code",
   "execution_count": 19,
   "metadata": {},
   "outputs": [],
   "source": [
    "loader = DataLoader(OUT_CONVERTED_PATH, BS).get_loader()"
   ]
  },
  {
   "cell_type": "code",
   "execution_count": 20,
   "metadata": {},
   "outputs": [
    {
     "data": {
      "text/plain": [
       "<torch.utils.data.dataloader.DataLoader at 0x7f3b5c3f8eb0>"
      ]
     },
     "execution_count": 20,
     "metadata": {},
     "output_type": "execute_result"
    }
   ],
   "source": [
    "loader"
   ]
  },
  {
   "cell_type": "code",
   "execution_count": 21,
   "metadata": {},
   "outputs": [
    {
     "name": "stdout",
     "output_type": "stream",
     "text": [
      "torch.Size([16, 25, 16])\n",
      "tensor([[-0.7758,  0.3817,  0.7294, -0.2120, -0.1561,  0.0329],\n",
      "        [ 0.0587,  0.4946, -0.1619, -0.4523, -0.4298,  0.3019],\n",
      "        [-0.0867, -0.2015,  0.4263, -0.4681,  0.6636,  0.1610],\n",
      "        [-0.1664, -0.0999, -0.4750, -0.0711,  0.7997,  0.1565],\n",
      "        [ 0.7884,  0.5684, -0.1152, -0.5744, -0.2011,  0.5169],\n",
      "        [ 0.0401,  0.3488,  0.2066, -0.0783,  0.6840, -0.3425],\n",
      "        [-0.1910,  0.8631,  0.2590, -0.4451, -0.0362,  0.0481],\n",
      "        [-0.7180,  0.1598,  0.0807, -0.6215, -0.0166,  0.3115],\n",
      "        [ 0.3935, -0.0266,  0.7627, -0.7266, -0.0807,  0.5540],\n",
      "        [-0.0695,  0.4311,  0.0630, -0.2887, -0.4021,  0.6837],\n",
      "        [-0.5353, -0.5096, -0.7084,  0.5013,  0.4605,  0.4351],\n",
      "        [-0.8107, -0.3008, -0.5825,  0.1947,  0.2125,  1.0856],\n",
      "        [ 0.5405,  0.4130,  0.2756, -0.9369, -0.2135, -0.0425],\n",
      "        [-0.9993,  0.1542, -0.6203, -0.3348,  0.1788,  0.0659],\n",
      "        [-0.5148, -0.0344,  0.1559, -0.6060, -0.0488,  0.5604],\n",
      "        [-0.1357,  0.8148, -0.1854, -0.5317, -0.3419,  0.1814]],\n",
      "       device='cuda:0', grad_fn=<AddmmBackward0>)\n"
     ]
    }
   ],
   "source": [
    "for i,( x, y) in enumerate(loader):\n",
    "    print(x[0].shape)\n",
    "    y = y.to(device)\n",
    "    pred = model(x)\n",
    "    print(pred)\n",
    "    break"
   ]
  }
 ],
 "metadata": {
  "kernelspec": {
   "display_name": "envOwnPart",
   "language": "python",
   "name": "python3"
  },
  "language_info": {
   "codemirror_mode": {
    "name": "ipython",
    "version": 3
   },
   "file_extension": ".py",
   "mimetype": "text/x-python",
   "name": "python",
   "nbconvert_exporter": "python",
   "pygments_lexer": "ipython3",
   "version": "3.9.15"
  },
  "orig_nbformat": 4,
  "vscode": {
   "interpreter": {
    "hash": "cff902959e020e668c6cf4d2e626e5a7a4473ea57b777c17f05dcb4526ea9cb0"
   }
  }
 },
 "nbformat": 4,
 "nbformat_minor": 2
}
