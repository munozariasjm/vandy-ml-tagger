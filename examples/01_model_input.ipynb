{
 "cells": [
  {
   "cell_type": "code",
   "execution_count": 1,
   "metadata": {},
   "outputs": [],
   "source": [
    "import glob\n",
    "import sys"
   ]
  },
  {
   "cell_type": "code",
   "execution_count": 2,
   "metadata": {},
   "outputs": [],
   "source": [
    "from alt_taggers.modules.models.part import ParticleTransformer\n",
    "from alt_taggers.utils.data_loader import CustomDS"
   ]
  },
  {
   "cell_type": "code",
   "execution_count": 3,
   "metadata": {},
   "outputs": [],
   "source": [
    "OUT_CONVERTED_PATH = \"../../../Datalake/converted/\"\n"
   ]
  },
  {
   "cell_type": "code",
   "execution_count": 4,
   "metadata": {},
   "outputs": [],
   "source": [
    "model = ParticleTransformer(num_classes = 6,\n",
    "                 num_enc = 8,\n",
    "                 num_head = 8,\n",
    "                 embed_dim = 128,\n",
    "                 cpf_dim = 16,\n",
    "                 npf_dim = 8,\n",
    "                 vtx_dim = 12,\n",
    "                 for_inference = False,)"
   ]
  },
  {
   "cell_type": "code",
   "execution_count": 5,
   "metadata": {},
   "outputs": [
    {
     "name": "stdout",
     "output_type": "stream",
     "text": [
      "None\n"
     ]
    },
    {
     "ename": "TypeError",
     "evalue": "'NoneType' object is not subscriptable",
     "output_type": "error",
     "traceback": [
      "\u001b[0;31m---------------------------------------------------------------------------\u001b[0m",
      "\u001b[0;31mTypeError\u001b[0m                                 Traceback (most recent call last)",
      "Cell \u001b[0;32mIn[5], line 1\u001b[0m\n\u001b[0;32m----> 1\u001b[0m dataset \u001b[39m=\u001b[39m CustomDS(OUT_CONVERTED_PATH)\n",
      "File \u001b[0;32m~/anaconda3/envs/envOwnPart/lib/python3.9/site-packages/alt_taggers/utils/data_loader.py:39\u001b[0m, in \u001b[0;36mCustomDS.__init__\u001b[0;34m(self, input_folder)\u001b[0m\n\u001b[1;32m     36\u001b[0m \u001b[39massert\u001b[39;00m \u001b[39mlen\u001b[39m(\u001b[39mself\u001b[39m\u001b[39m.\u001b[39mfile_list) \u001b[39m>\u001b[39m \u001b[39m0\u001b[39m, \u001b[39m\"\u001b[39m\u001b[39mNo .pkl files found\u001b[39m\u001b[39m\"\u001b[39m\u001b[39m.\u001b[39mformat(input_folder)\n\u001b[1;32m     37\u001b[0m \u001b[39mself\u001b[39m\u001b[39m.\u001b[39mfile_list\u001b[39m.\u001b[39msort()\n\u001b[0;32m---> 39\u001b[0m \u001b[39mself\u001b[39m\u001b[39m.\u001b[39mall_files_len \u001b[39m=\u001b[39m \u001b[39mself\u001b[39;49m\u001b[39m.\u001b[39;49m_all_files_len()\n",
      "File \u001b[0;32m~/anaconda3/envs/envOwnPart/lib/python3.9/site-packages/alt_taggers/utils/data_loader.py:51\u001b[0m, in \u001b[0;36mCustomDS._all_files_len\u001b[0;34m(self)\u001b[0m\n\u001b[1;32m     49\u001b[0m         data \u001b[39m=\u001b[39m pickle\u001b[39m.\u001b[39mload(f)\n\u001b[1;32m     50\u001b[0m         \u001b[39mprint\u001b[39m(data[\u001b[39m1\u001b[39m])\n\u001b[0;32m---> 51\u001b[0m         ldata \u001b[39m=\u001b[39m \u001b[39mlen\u001b[39m(data[\u001b[39m1\u001b[39;49m][\u001b[39m\"\u001b[39;49m\u001b[39misB\u001b[39;49m\u001b[39m\"\u001b[39;49m])\n\u001b[1;32m     52\u001b[0m         \u001b[39mself\u001b[39m\u001b[39m.\u001b[39mdata_list\u001b[39m.\u001b[39mappend(ldata)\n\u001b[1;32m     53\u001b[0m \u001b[39mself\u001b[39m\u001b[39m.\u001b[39mtotal_len \u001b[39m=\u001b[39m np\u001b[39m.\u001b[39msum(\u001b[39mself\u001b[39m\u001b[39m.\u001b[39mdata_list)\n",
      "\u001b[0;31mTypeError\u001b[0m: 'NoneType' object is not subscriptable"
     ]
    }
   ],
   "source": [
    "dataset = CustomDS(OUT_CONVERTED_PATH)"
   ]
  },
  {
   "cell_type": "code",
   "execution_count": null,
   "metadata": {},
   "outputs": [
    {
     "data": {
      "text/plain": [
       "((None, None, None, None, None, None),\n",
       " {'isB': array([0, 0, 0, ..., 1, 0, 0], dtype=int32),\n",
       "  'isBB': array([0, 0, 0, ..., 0, 0, 0], dtype=int32),\n",
       "  'isGBB': array([0, 0, 0, ..., 0, 0, 0], dtype=int32),\n",
       "  'isLeptonicB': array([1, 0, 0, ..., 0, 0, 0], dtype=int32),\n",
       "  'isLeptonicB_C': array([0, 0, 0, ..., 0, 0, 0], dtype=int32),\n",
       "  'isC': array([0, 0, 1, ..., 0, 0, 0], dtype=int32),\n",
       "  'isGCC': array([0, 0, 0, ..., 0, 0, 0], dtype=int32),\n",
       "  'isCC': array([0, 0, 0, ..., 0, 0, 0], dtype=int32),\n",
       "  'isUD': array([0, 0, 0, ..., 0, 0, 1], dtype=int32),\n",
       "  'isS': array([0, 0, 0, ..., 0, 0, 0], dtype=int32),\n",
       "  'isG': array([0, 1, 0, ..., 0, 1, 0], dtype=int32)})"
      ]
     },
     "execution_count": 7,
     "metadata": {},
     "output_type": "execute_result"
    }
   ],
   "source": [
    "dataset[0]"
   ]
  },
  {
   "cell_type": "code",
   "execution_count": null,
   "metadata": {},
   "outputs": [],
   "source": []
  }
 ],
 "metadata": {
  "kernelspec": {
   "display_name": "envOwnPart",
   "language": "python",
   "name": "python3"
  },
  "language_info": {
   "codemirror_mode": {
    "name": "ipython",
    "version": 3
   },
   "file_extension": ".py",
   "mimetype": "text/x-python",
   "name": "python",
   "nbconvert_exporter": "python",
   "pygments_lexer": "ipython3",
   "version": "3.9.15"
  },
  "orig_nbformat": 4,
  "vscode": {
   "interpreter": {
    "hash": "cff902959e020e668c6cf4d2e626e5a7a4473ea57b777c17f05dcb4526ea9cb0"
   }
  }
 },
 "nbformat": 4,
 "nbformat_minor": 2
}
