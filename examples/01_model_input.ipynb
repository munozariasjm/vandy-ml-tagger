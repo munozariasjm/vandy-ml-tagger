{
 "cells": [
  {
   "cell_type": "code",
   "execution_count": 1,
   "metadata": {},
   "outputs": [],
   "source": [
    "import glob\n",
    "import sys\n",
    "import torch"
   ]
  },
  {
   "cell_type": "code",
   "execution_count": 2,
   "metadata": {},
   "outputs": [],
   "source": [
    "device = torch.device(\"cuda:0\" if torch.cuda.is_available() else \"cpu\")"
   ]
  },
  {
   "cell_type": "code",
   "execution_count": 3,
   "metadata": {},
   "outputs": [
    {
     "data": {
      "text/plain": [
       "device(type='cuda', index=0)"
      ]
     },
     "execution_count": 3,
     "metadata": {},
     "output_type": "execute_result"
    }
   ],
   "source": [
    "device"
   ]
  },
  {
   "cell_type": "code",
   "execution_count": 4,
   "metadata": {},
   "outputs": [],
   "source": [
    "sys.path.append(\"../alt_taggers\")"
   ]
  },
  {
   "cell_type": "code",
   "execution_count": 5,
   "metadata": {},
   "outputs": [],
   "source": [
    "# from alt_taggers.modules.models.part import ParticleTransformer\n",
    "# from alt_taggers.utils.data_loader import CustomDS"
   ]
  },
  {
   "cell_type": "code",
   "execution_count": 6,
   "metadata": {},
   "outputs": [],
   "source": [
    "from modules.models.part import ParticleTransformer\n",
    "from utils.data_loader import DataLoader"
   ]
  },
  {
   "cell_type": "code",
   "execution_count": 7,
   "metadata": {},
   "outputs": [],
   "source": [
    "OUT_CONVERTED_PATH = \"../../../Datalake/converted/\"\n"
   ]
  },
  {
   "cell_type": "code",
   "execution_count": 8,
   "metadata": {},
   "outputs": [],
   "source": [
    "model = ParticleTransformer(num_classes = 6,\n",
    "                 num_enc = 8,\n",
    "                 num_head = 8,\n",
    "                 embed_dim = 128,\n",
    "                 cpf_dim = 16,\n",
    "                 npf_dim = 8,\n",
    "                 vtx_dim = 14,\n",
    "                 for_inference = False,)\n",
    "model.to(device);"
   ]
  },
  {
   "cell_type": "code",
   "execution_count": 9,
   "metadata": {},
   "outputs": [],
   "source": [
    "BS = 16"
   ]
  },
  {
   "cell_type": "code",
   "execution_count": 10,
   "metadata": {},
   "outputs": [],
   "source": [
    "loader = DataLoader(OUT_CONVERTED_PATH, BS).get_loader()"
   ]
  },
  {
   "cell_type": "code",
   "execution_count": 11,
   "metadata": {},
   "outputs": [
    {
     "data": {
      "text/plain": [
       "<torch.utils.data.dataloader.DataLoader at 0x7f6f465e5b80>"
      ]
     },
     "execution_count": 11,
     "metadata": {},
     "output_type": "execute_result"
    }
   ],
   "source": [
    "loader"
   ]
  },
  {
   "cell_type": "code",
   "execution_count": 15,
   "metadata": {},
   "outputs": [
    {
     "name": "stdout",
     "output_type": "stream",
     "text": [
      "torch.Size([16, 25, 16])\n",
      "tensor([[-0.3849, -1.2118,  0.4587,  1.1055,  0.3225,  0.7132],\n",
      "        [-0.4677, -0.4596,  0.2399,  0.4267,  0.0603,  0.2257],\n",
      "        [ 0.2357, -0.8875,  0.8855,  1.4541, -0.4557,  0.0762],\n",
      "        [ 0.4730, -0.6288,  0.0338,  1.1884, -0.3407,  0.0244],\n",
      "        [-0.0820, -0.4053,  0.2304,  1.2090, -0.6228, -0.3175],\n",
      "        [-0.1410, -0.0210,  0.3948,  1.1257, -0.4903,  0.0662],\n",
      "        [ 0.5162,  0.3405,  0.0924,  0.3396, -0.9939, -0.3900],\n",
      "        [ 0.4513, -0.9825, -0.2259,  1.1071, -0.5840,  0.0221],\n",
      "        [ 0.1292, -0.8107, -0.4690,  0.9698, -0.0383,  0.3252],\n",
      "        [ 0.1605, -0.8623,  0.3050,  1.5829, -0.6152, -0.0675],\n",
      "        [ 0.1326, -0.4148,  0.2711,  1.0364, -0.2236,  0.2992],\n",
      "        [ 0.3899, -0.2488, -0.1515,  0.8678, -1.0335,  0.0919],\n",
      "        [ 0.5997, -0.8058, -0.1103,  1.0018, -0.2997, -0.0282],\n",
      "        [-0.5113, -1.4308, -0.3583,  0.6030, -0.0565,  0.4853],\n",
      "        [ 0.5018,  0.2521,  0.0053,  0.8183, -0.7710, -0.0358],\n",
      "        [ 0.7551, -0.0363,  0.1904,  0.6347, -0.5083, -0.4250]],\n",
      "       device='cuda:0', grad_fn=<AddmmBackward0>)\n"
     ]
    }
   ],
   "source": [
    "for i,( x, y) in enumerate(loader):\n",
    "    print(x[0].shape)\n",
    "    y = y.to(device)\n",
    "    pred = model(x)\n",
    "    print(pred)\n",
    "    break"
   ]
  },
  {
   "cell_type": "code",
   "execution_count": null,
   "metadata": {},
   "outputs": [],
   "source": []
  },
  {
   "cell_type": "code",
   "execution_count": null,
   "metadata": {},
   "outputs": [],
   "source": []
  }
 ],
 "metadata": {
  "kernelspec": {
   "display_name": "envOwnPart",
   "language": "python",
   "name": "python3"
  },
  "language_info": {
   "codemirror_mode": {
    "name": "ipython",
    "version": 3
   },
   "file_extension": ".py",
   "mimetype": "text/x-python",
   "name": "python",
   "nbconvert_exporter": "python",
   "pygments_lexer": "ipython3",
   "version": "3.9.15"
  },
  "orig_nbformat": 4,
  "vscode": {
   "interpreter": {
    "hash": "cff902959e020e668c6cf4d2e626e5a7a4473ea57b777c17f05dcb4526ea9cb0"
   }
  }
 },
 "nbformat": 4,
 "nbformat_minor": 2
}
