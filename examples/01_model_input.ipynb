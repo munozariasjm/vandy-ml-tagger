{
 "cells": [
  {
   "cell_type": "code",
   "execution_count": 1,
   "metadata": {},
   "outputs": [],
   "source": [
    "import glob\n",
    "import sys\n",
    "import torch"
   ]
  },
  {
   "cell_type": "code",
   "execution_count": 2,
   "metadata": {},
   "outputs": [],
   "source": [
    "device = torch.device(\"cuda:0\" if torch.cuda.is_available() else \"cpu\")"
   ]
  },
  {
   "cell_type": "code",
   "execution_count": 3,
   "metadata": {},
   "outputs": [],
   "source": [
    "sys.path.append(\"../alt_taggers\")"
   ]
  },
  {
   "cell_type": "code",
   "execution_count": 4,
   "metadata": {},
   "outputs": [],
   "source": [
    "from alt_taggers.modules.models.part import ParticleTransformer\n",
    "from alt_taggers.utils.data_loader import DataLoader"
   ]
  },
  {
   "cell_type": "code",
   "execution_count": 5,
   "metadata": {},
   "outputs": [
    {
     "data": {
      "text/plain": [
       "['../../../Datalake/converted/train_file_0.pkl']"
      ]
     },
     "execution_count": 5,
     "metadata": {},
     "output_type": "execute_result"
    }
   ],
   "source": [
    "OUT_CONVERTED_PATH = \"../../../Datalake/converted/*train*\"\n",
    "glob.glob(OUT_CONVERTED_PATH)"
   ]
  },
  {
   "cell_type": "code",
   "execution_count": 6,
   "metadata": {},
   "outputs": [],
   "source": [
    "model = ParticleTransformer(num_classes = 6,\n",
    "                 num_enc = 8,\n",
    "                 num_head = 8,\n",
    "                 embed_dim = 128,\n",
    "                 cpf_dim = 16,\n",
    "                 npf_dim = 8,\n",
    "                 vtx_dim = 14,\n",
    "                 for_inference = False,)\n",
    "model.to(device);"
   ]
  },
  {
   "cell_type": "code",
   "execution_count": 7,
   "metadata": {},
   "outputs": [],
   "source": [
    "BS = 16"
   ]
  },
  {
   "cell_type": "code",
   "execution_count": 8,
   "metadata": {},
   "outputs": [],
   "source": [
    "loader = DataLoader(OUT_CONVERTED_PATH, BS).get_loader()"
   ]
  },
  {
   "cell_type": "code",
   "execution_count": 11,
   "metadata": {},
   "outputs": [
    {
     "data": {
      "text/plain": [
       "210"
      ]
     },
     "execution_count": 11,
     "metadata": {},
     "output_type": "execute_result"
    }
   ],
   "source": [
    "len(loader)"
   ]
  },
  {
   "cell_type": "code",
   "execution_count": 10,
   "metadata": {},
   "outputs": [
    {
     "name": "stdout",
     "output_type": "stream",
     "text": [
      "torch.Size([16, 25, 16])\n",
      "tensor([[-0.2700, -0.9993, -0.2545, -0.2259, -0.6766, -0.1746],\n",
      "        [ 0.0504,  0.0485, -0.1007, -0.9526, -0.0753, -0.0275],\n",
      "        [ 0.2246,  0.4377, -0.3457, -0.5612, -0.3796, -0.1005],\n",
      "        [ 0.3159,  0.1756, -0.3763, -0.4605, -1.0147, -0.1675],\n",
      "        [-0.0876,  0.0396, -0.4302, -0.4194, -0.2851, -0.8874],\n",
      "        [-0.1051,  0.3542, -0.4286, -0.9627,  0.1094, -0.0960],\n",
      "        [ 0.3147, -0.1669, -1.0207, -0.6270, -0.5512, -0.2718],\n",
      "        [ 0.1136, -0.3489, -0.6793, -0.4154, -0.0562, -1.0295],\n",
      "        [ 0.2162, -0.5193, -0.5889, -0.4767,  0.1068, -0.5058],\n",
      "        [ 0.1295,  0.3517, -0.0424,  0.0765, -0.6917, -0.2302],\n",
      "        [ 0.2987, -0.1017, -0.0373, -0.6425, -0.5921,  0.0661],\n",
      "        [ 0.1321, -0.0555, -0.2456, -0.8739,  0.3104, -0.5561],\n",
      "        [ 0.4185, -0.5197, -0.4119, -0.8482, -0.3634,  0.0138],\n",
      "        [ 0.0221, -0.0060, -0.7884,  0.4590,  0.1980, -0.3809],\n",
      "        [ 0.3579, -0.1399,  0.1422, -0.0526, -0.4647, -0.3507],\n",
      "        [-0.0224, -0.0308,  0.2016, -0.4734,  1.0532,  0.6082]],\n",
      "       device='cuda:0', grad_fn=<AddmmBackward0>)\n"
     ]
    }
   ],
   "source": [
    "for i,( x, y) in enumerate(loader):\n",
    "    print(x[0].shape)\n",
    "    y = y.to(device)\n",
    "    pred = model(x)\n",
    "    print(pred)\n",
    "    break"
   ]
  }
 ],
 "metadata": {
  "kernelspec": {
   "display_name": "envOwnPart",
   "language": "python",
   "name": "python3"
  },
  "language_info": {
   "codemirror_mode": {
    "name": "ipython",
    "version": 3
   },
   "file_extension": ".py",
   "mimetype": "text/x-python",
   "name": "python",
   "nbconvert_exporter": "python",
   "pygments_lexer": "ipython3",
   "version": "3.9.15"
  },
  "orig_nbformat": 4,
  "vscode": {
   "interpreter": {
    "hash": "cff902959e020e668c6cf4d2e626e5a7a4473ea57b777c17f05dcb4526ea9cb0"
   }
  }
 },
 "nbformat": 4,
 "nbformat_minor": 2
}
