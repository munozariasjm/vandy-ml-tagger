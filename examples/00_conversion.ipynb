{
 "cells": [
  {
   "cell_type": "code",
   "execution_count": 1,
   "metadata": {},
   "outputs": [],
   "source": [
    "import sys\n",
    "import glob\n",
    "sys.path.append(\"../src\")"
   ]
  },
  {
   "cell_type": "code",
   "execution_count": 2,
   "metadata": {},
   "outputs": [],
   "source": [
    "from alt_taggers.utils.dataset_conversion import PartData"
   ]
  },
  {
   "cell_type": "code",
   "execution_count": 3,
   "metadata": {},
   "outputs": [],
   "source": [
    "IN_PATH = \"../../../Datalake/raw/*.root\"\n",
    "OUT_PATH = \"../../../Datalake/converted/\""
   ]
  },
  {
   "cell_type": "code",
   "execution_count": 4,
   "metadata": {},
   "outputs": [],
   "source": [
    "file_list = glob.glob(IN_PATH)"
   ]
  },
  {
   "cell_type": "code",
   "execution_count": 5,
   "metadata": {},
   "outputs": [
    {
     "name": "stdout",
     "output_type": "stream",
     "text": [
      "Converting  ntuple_ZprimeTobb_M_2000_Run3Winter22_0.root\n"
     ]
    }
   ],
   "source": [
    "PartData().convert(sourcelist = file_list, destdir=OUT_PATH, basename=\"train_file\")"
   ]
  }
 ],
 "metadata": {
  "kernelspec": {
   "display_name": "envOwnPart",
   "language": "python",
   "name": "python3"
  },
  "language_info": {
   "codemirror_mode": {
    "name": "ipython",
    "version": 3
   },
   "file_extension": ".py",
   "mimetype": "text/x-python",
   "name": "python",
   "nbconvert_exporter": "python",
   "pygments_lexer": "ipython3",
   "version": "3.9.15"
  },
  "orig_nbformat": 4,
  "vscode": {
   "interpreter": {
    "hash": "cff902959e020e668c6cf4d2e626e5a7a4473ea57b777c17f05dcb4526ea9cb0"
   }
  }
 },
 "nbformat": 4,
 "nbformat_minor": 2
}
