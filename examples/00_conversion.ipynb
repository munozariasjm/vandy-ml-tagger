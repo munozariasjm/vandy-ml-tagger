{
 "cells": [
  {
   "cell_type": "code",
   "execution_count": 1,
   "metadata": {},
   "outputs": [],
   "source": [
    "import sys\n",
    "import glob"
   ]
  },
  {
   "cell_type": "code",
   "execution_count": 2,
   "metadata": {},
   "outputs": [],
   "source": [
    "sys.path.append(\"../vandy_taggers/\")\n",
    "from utils.dataset_conversion import PartData"
   ]
  },
  {
   "cell_type": "code",
   "execution_count": 3,
   "metadata": {},
   "outputs": [],
   "source": [
    "# from vandy_taggers.utils.dataset_conversion import PartData"
   ]
  },
  {
   "cell_type": "code",
   "execution_count": 4,
   "metadata": {},
   "outputs": [],
   "source": [
    "IN_PATH = \"../../../Datalake/raw/*.root\"\n",
    "OUT_PATH = \"../../../Datalake/converted/\""
   ]
  },
  {
   "cell_type": "code",
   "execution_count": 5,
   "metadata": {},
   "outputs": [
    {
     "data": {
      "text/plain": [
       "['../../../Datalake/raw/ntuple_ZprimeTobb_M_2000_Run3Winter22_0.root']"
      ]
     },
     "execution_count": 5,
     "metadata": {},
     "output_type": "execute_result"
    }
   ],
   "source": [
    "file_list = glob.glob(IN_PATH)\n",
    "file_list"
   ]
  },
  {
   "cell_type": "code",
   "execution_count": 6,
   "metadata": {},
   "outputs": [
    {
     "name": "stderr",
     "output_type": "stream",
     "text": [
      "/home/jose/anaconda3/envs/envOwnPart/lib/python3.9/site-packages/numpy/lib/histograms.py:1124: RuntimeWarning: invalid value encountered in true_divide\n",
      "  hist /= s\n",
      "/home/jose/Documents/WORKS/CERN/InProgress/OwnArch/vandy-ml-tagger/vandy_taggers/utils/weighter.py:247: RuntimeWarning: invalid value encountered in less\n",
      "  ratio[ratio<0]=1\n"
     ]
    },
    {
     "name": "stdout",
     "output_type": "stream",
     "text": [
      "Converting  ntuple_ZprimeTobb_M_2000_Run3Winter22_0.root\n",
      "remove\n"
     ]
    }
   ],
   "source": [
    "PartData().convert(sourcelist = file_list, destdir=OUT_PATH, basename=\"train_file\")\n",
    "# PartData().convert_single_file(file_list[0], OUT_PATH, \"train_file\", 0)"
   ]
  }
 ],
 "metadata": {
  "kernelspec": {
   "display_name": "envOwnPart",
   "language": "python",
   "name": "python3"
  },
  "language_info": {
   "codemirror_mode": {
    "name": "ipython",
    "version": 3
   },
   "file_extension": ".py",
   "mimetype": "text/x-python",
   "name": "python",
   "nbconvert_exporter": "python",
   "pygments_lexer": "ipython3",
   "version": "3.9.15"
  },
  "orig_nbformat": 4,
  "vscode": {
   "interpreter": {
    "hash": "cff902959e020e668c6cf4d2e626e5a7a4473ea57b777c17f05dcb4526ea9cb0"
   }
  }
 },
 "nbformat": 4,
 "nbformat_minor": 2
}
